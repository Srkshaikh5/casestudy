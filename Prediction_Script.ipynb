{
 "cells": [
  {
   "cell_type": "code",
   "execution_count": 1,
   "metadata": {},
   "outputs": [],
   "source": [
    "import pandas as pd\n",
    "import os\n",
    "import warnings\n",
    "warnings.simplefilter('ignore')\n",
    "os.chdir('D:/Aegis/Shaadi.com Case study/Saruk_Shaikh_case_study')"
   ]
  },
  {
   "cell_type": "code",
   "execution_count": 2,
   "metadata": {},
   "outputs": [],
   "source": [
    "df=pd.read_csv('Classification1Test.txt', sep='\\t')"
   ]
  },
  {
   "cell_type": "markdown",
   "metadata": {},
   "source": [
    "## predict is the fuction which takes input of df which is a .txt file"
   ]
  },
  {
   "cell_type": "code",
   "execution_count": 3,
   "metadata": {},
   "outputs": [],
   "source": [
    "def predict(df):\n",
    "    import pandas as pd\n",
    "\n",
    "    from sklearn import preprocessing\n",
    "\n",
    "    import numpy as np\n",
    "\n",
    "    test_data = pd.read_csv('Classification1Test.txt', sep='\\t')\n",
    "\n",
    "    import datetime as dt\n",
    "\n",
    "    test_data['F15'] = pd.to_datetime(test_data['F15'])\n",
    "\n",
    "    test_data['F15']=test_data['F15'].map(dt.datetime.toordinal)\n",
    "\n",
    "    test_data['F16'] = pd.to_datetime(test_data['F16'])\n",
    "\n",
    "    test_data['F16']=test_data['F16'].map(dt.datetime.toordinal)\n",
    "\n",
    "    index = test_data.ix[:,0].values\n",
    "\n",
    "    index = index.reshape(len(index),1)\n",
    "\n",
    "    test_data.drop(['Index'],axis=1,inplace=True)\n",
    "\n",
    "    test_data_ = test_data.ix[:,:].values\n",
    "\n",
    "    scaler = preprocessing.StandardScaler().fit(test_data_)\n",
    "\n",
    "    test_data=scaler.transform(test_data_)\n",
    "\n",
    "    from keras.models import load_model\n",
    "\n",
    "    model = load_model('model.h5')\n",
    "\n",
    "    test_target_pred = model.predict_classes(test_data_) \n",
    "\n",
    "    conct=np.concatenate((index,test_target_pred),axis=1)\n",
    "\n",
    "    np.savetxt('test_target_pred.txt',conct, fmt='%5s',header='Index       C', delimiter=' ')"
   ]
  },
  {
   "cell_type": "markdown",
   "metadata": {},
   "source": [
    "## function directly writes the output to the directory"
   ]
  },
  {
   "cell_type": "code",
   "execution_count": 4,
   "metadata": {
    "scrolled": true
   },
   "outputs": [
    {
     "name": "stderr",
     "output_type": "stream",
     "text": [
      "Using TensorFlow backend.\n"
     ]
    }
   ],
   "source": [
    "predict(df)\n"
   ]
  },
  {
   "cell_type": "code",
   "execution_count": null,
   "metadata": {},
   "outputs": [],
   "source": []
  },
  {
   "cell_type": "code",
   "execution_count": null,
   "metadata": {},
   "outputs": [],
   "source": []
  }
 ],
 "metadata": {
  "kernelspec": {
   "display_name": "Python 3",
   "language": "python",
   "name": "python3"
  },
  "language_info": {
   "codemirror_mode": {
    "name": "ipython",
    "version": 3
   },
   "file_extension": ".py",
   "mimetype": "text/x-python",
   "name": "python",
   "nbconvert_exporter": "python",
   "pygments_lexer": "ipython3",
   "version": "3.6.4"
  }
 },
 "nbformat": 4,
 "nbformat_minor": 2
}
