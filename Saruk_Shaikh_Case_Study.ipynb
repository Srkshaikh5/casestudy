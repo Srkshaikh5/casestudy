{
 "cells": [
  {
   "cell_type": "code",
   "execution_count": 3,
   "metadata": {},
   "outputs": [],
   "source": [
    "import pandas as pd\n",
    "import numpy as np\n",
    "import matplotlib.pyplot as plt\n",
    "import warnings\n",
    "warnings.simplefilter('ignore')"
   ]
  },
  {
   "cell_type": "markdown",
   "metadata": {},
   "source": [
    "# Loading train data"
   ]
  },
  {
   "cell_type": "code",
   "execution_count": 4,
   "metadata": {
    "scrolled": true
   },
   "outputs": [],
   "source": [
    "import os\n",
    "os.chdir('D:/Aegis/Shaadi.com Case study/Saruk_Shaikh_case_study')\n",
    "df = pd.read_csv('ClassificationProblem1.txt', sep='\\t')\n",
    "df=pd.DataFrame(df)"
   ]
  },
  {
   "cell_type": "markdown",
   "metadata": {},
   "source": [
    "# Knowing the data:"
   ]
  },
  {
   "cell_type": "code",
   "execution_count": 5,
   "metadata": {},
   "outputs": [
    {
     "data": {
      "text/html": [
       "<div>\n",
       "<style scoped>\n",
       "    .dataframe tbody tr th:only-of-type {\n",
       "        vertical-align: middle;\n",
       "    }\n",
       "\n",
       "    .dataframe tbody tr th {\n",
       "        vertical-align: top;\n",
       "    }\n",
       "\n",
       "    .dataframe thead th {\n",
       "        text-align: right;\n",
       "    }\n",
       "</style>\n",
       "<table border=\"1\" class=\"dataframe\">\n",
       "  <thead>\n",
       "    <tr style=\"text-align: right;\">\n",
       "      <th></th>\n",
       "      <th>Index</th>\n",
       "      <th>F1</th>\n",
       "      <th>F2</th>\n",
       "      <th>F3</th>\n",
       "      <th>F4</th>\n",
       "      <th>F5</th>\n",
       "      <th>F6</th>\n",
       "      <th>F7</th>\n",
       "      <th>F8</th>\n",
       "      <th>F9</th>\n",
       "      <th>...</th>\n",
       "      <th>F14</th>\n",
       "      <th>F15</th>\n",
       "      <th>F16</th>\n",
       "      <th>F17</th>\n",
       "      <th>F18</th>\n",
       "      <th>F19</th>\n",
       "      <th>F20</th>\n",
       "      <th>F21</th>\n",
       "      <th>F22</th>\n",
       "      <th>C</th>\n",
       "    </tr>\n",
       "  </thead>\n",
       "  <tbody>\n",
       "    <tr>\n",
       "      <th>0</th>\n",
       "      <td>1</td>\n",
       "      <td>0.224506</td>\n",
       "      <td>0.500340</td>\n",
       "      <td>0.489860</td>\n",
       "      <td>0.902413</td>\n",
       "      <td>7934</td>\n",
       "      <td>-6970</td>\n",
       "      <td>-5714</td>\n",
       "      <td>9982</td>\n",
       "      <td>-5697</td>\n",
       "      <td>...</td>\n",
       "      <td>-3433637453</td>\n",
       "      <td>10-04-1986</td>\n",
       "      <td>09-06-1992</td>\n",
       "      <td>2</td>\n",
       "      <td>1</td>\n",
       "      <td>706</td>\n",
       "      <td>305</td>\n",
       "      <td>1</td>\n",
       "      <td>2</td>\n",
       "      <td>0</td>\n",
       "    </tr>\n",
       "    <tr>\n",
       "      <th>1</th>\n",
       "      <td>2</td>\n",
       "      <td>0.321128</td>\n",
       "      <td>0.281119</td>\n",
       "      <td>0.907283</td>\n",
       "      <td>0.772159</td>\n",
       "      <td>-8238</td>\n",
       "      <td>1219</td>\n",
       "      <td>1663</td>\n",
       "      <td>1287</td>\n",
       "      <td>-3658</td>\n",
       "      <td>...</td>\n",
       "      <td>609277486</td>\n",
       "      <td>2/24/1979</td>\n",
       "      <td>01-05-1983</td>\n",
       "      <td>1</td>\n",
       "      <td>1</td>\n",
       "      <td>423</td>\n",
       "      <td>206</td>\n",
       "      <td>18</td>\n",
       "      <td>7</td>\n",
       "      <td>1</td>\n",
       "    </tr>\n",
       "    <tr>\n",
       "      <th>2</th>\n",
       "      <td>3</td>\n",
       "      <td>0.893441</td>\n",
       "      <td>0.622005</td>\n",
       "      <td>0.998776</td>\n",
       "      <td>0.098386</td>\n",
       "      <td>8540</td>\n",
       "      <td>5266</td>\n",
       "      <td>-9377</td>\n",
       "      <td>-3504</td>\n",
       "      <td>-4511</td>\n",
       "      <td>...</td>\n",
       "      <td>-8977995005</td>\n",
       "      <td>01-12-1989</td>\n",
       "      <td>11/22/1986</td>\n",
       "      <td>2</td>\n",
       "      <td>1</td>\n",
       "      <td>703</td>\n",
       "      <td>315</td>\n",
       "      <td>1</td>\n",
       "      <td>4</td>\n",
       "      <td>0</td>\n",
       "    </tr>\n",
       "    <tr>\n",
       "      <th>3</th>\n",
       "      <td>4</td>\n",
       "      <td>0.320641</td>\n",
       "      <td>0.957234</td>\n",
       "      <td>0.346000</td>\n",
       "      <td>0.646479</td>\n",
       "      <td>-7772</td>\n",
       "      <td>-383</td>\n",
       "      <td>9681</td>\n",
       "      <td>-8661</td>\n",
       "      <td>3474</td>\n",
       "      <td>...</td>\n",
       "      <td>4868760308</td>\n",
       "      <td>2/18/1982</td>\n",
       "      <td>06-10-1992</td>\n",
       "      <td>1</td>\n",
       "      <td>1</td>\n",
       "      <td>122</td>\n",
       "      <td>304</td>\n",
       "      <td>15</td>\n",
       "      <td>1</td>\n",
       "      <td>0</td>\n",
       "    </tr>\n",
       "    <tr>\n",
       "      <th>4</th>\n",
       "      <td>5</td>\n",
       "      <td>0.475961</td>\n",
       "      <td>0.623008</td>\n",
       "      <td>0.544988</td>\n",
       "      <td>0.159709</td>\n",
       "      <td>1571</td>\n",
       "      <td>-8039</td>\n",
       "      <td>-7961</td>\n",
       "      <td>-2385</td>\n",
       "      <td>4407</td>\n",
       "      <td>...</td>\n",
       "      <td>9757408267</td>\n",
       "      <td>04-10-1987</td>\n",
       "      <td>10/19/1985</td>\n",
       "      <td>1</td>\n",
       "      <td>1</td>\n",
       "      <td>486</td>\n",
       "      <td>240</td>\n",
       "      <td>1</td>\n",
       "      <td>1</td>\n",
       "      <td>0</td>\n",
       "    </tr>\n",
       "  </tbody>\n",
       "</table>\n",
       "<p>5 rows × 24 columns</p>\n",
       "</div>"
      ],
      "text/plain": [
       "   Index        F1        F2        F3        F4    F5    F6    F7    F8  \\\n",
       "0      1  0.224506  0.500340  0.489860  0.902413  7934 -6970 -5714  9982   \n",
       "1      2  0.321128  0.281119  0.907283  0.772159 -8238  1219  1663  1287   \n",
       "2      3  0.893441  0.622005  0.998776  0.098386  8540  5266 -9377 -3504   \n",
       "3      4  0.320641  0.957234  0.346000  0.646479 -7772  -383  9681 -8661   \n",
       "4      5  0.475961  0.623008  0.544988  0.159709  1571 -8039 -7961 -2385   \n",
       "\n",
       "     F9 ...         F14         F15         F16  F17  F18  F19  F20  F21  F22  \\\n",
       "0 -5697 ... -3433637453  10-04-1986  09-06-1992    2    1  706  305    1    2   \n",
       "1 -3658 ...   609277486   2/24/1979  01-05-1983    1    1  423  206   18    7   \n",
       "2 -4511 ... -8977995005  01-12-1989  11/22/1986    2    1  703  315    1    4   \n",
       "3  3474 ...  4868760308   2/18/1982  06-10-1992    1    1  122  304   15    1   \n",
       "4  4407 ...  9757408267  04-10-1987  10/19/1985    1    1  486  240    1    1   \n",
       "\n",
       "   C  \n",
       "0  0  \n",
       "1  1  \n",
       "2  0  \n",
       "3  0  \n",
       "4  0  \n",
       "\n",
       "[5 rows x 24 columns]"
      ]
     },
     "execution_count": 5,
     "metadata": {},
     "output_type": "execute_result"
    }
   ],
   "source": [
    "#small look over the dataset\n",
    "df.head()"
   ]
  },
  {
   "cell_type": "markdown",
   "metadata": {},
   "source": [
    "## Dimension of the dataset\n",
    "data has 101180 rows \n",
    "and 24 columns "
   ]
  },
  {
   "cell_type": "code",
   "execution_count": 370,
   "metadata": {},
   "outputs": [
    {
     "data": {
      "text/plain": [
       "(101180, 24)"
      ]
     },
     "execution_count": 370,
     "metadata": {},
     "output_type": "execute_result"
    }
   ],
   "source": [
    "df.shape   "
   ]
  },
  {
   "cell_type": "markdown",
   "metadata": {},
   "source": [
    "## Here we can see most of the data is integer and float\n",
    "But F15 and F16 is a object which are actually date"
   ]
  },
  {
   "cell_type": "code",
   "execution_count": 371,
   "metadata": {},
   "outputs": [
    {
     "name": "stdout",
     "output_type": "stream",
     "text": [
      "<class 'pandas.core.frame.DataFrame'>\n",
      "RangeIndex: 101180 entries, 0 to 101179\n",
      "Data columns (total 24 columns):\n",
      "Index    101180 non-null int64\n",
      "F1       101180 non-null float64\n",
      "F2       101180 non-null float64\n",
      "F3       101180 non-null float64\n",
      "F4       101180 non-null float64\n",
      "F5       101180 non-null int64\n",
      "F6       101180 non-null int64\n",
      "F7       101180 non-null int64\n",
      "F8       101180 non-null int64\n",
      "F9       101180 non-null int64\n",
      "F10      101180 non-null int64\n",
      "F11      101180 non-null int64\n",
      "F12      101180 non-null int64\n",
      "F13      101180 non-null int64\n",
      "F14      101180 non-null int64\n",
      "F15      101180 non-null object\n",
      "F16      101180 non-null object\n",
      "F17      101180 non-null int64\n",
      "F18      101180 non-null int64\n",
      "F19      101180 non-null int64\n",
      "F20      101180 non-null int64\n",
      "F21      101180 non-null int64\n",
      "F22      101180 non-null int64\n",
      "C        101180 non-null int64\n",
      "dtypes: float64(4), int64(18), object(2)\n",
      "memory usage: 18.5+ MB\n"
     ]
    }
   ],
   "source": [
    "df.info()"
   ]
  },
  {
   "cell_type": "markdown",
   "metadata": {},
   "source": [
    "# Checking Null values\n",
    "There are no null values"
   ]
  },
  {
   "cell_type": "code",
   "execution_count": 372,
   "metadata": {},
   "outputs": [
    {
     "data": {
      "text/plain": [
       "Index    0\n",
       "F1       0\n",
       "F2       0\n",
       "F3       0\n",
       "F4       0\n",
       "F5       0\n",
       "F6       0\n",
       "F7       0\n",
       "F8       0\n",
       "F9       0\n",
       "F10      0\n",
       "F11      0\n",
       "F12      0\n",
       "F13      0\n",
       "F14      0\n",
       "F15      0\n",
       "F16      0\n",
       "F17      0\n",
       "F18      0\n",
       "F19      0\n",
       "F20      0\n",
       "F21      0\n",
       "F22      0\n",
       "C        0\n",
       "dtype: int64"
      ]
     },
     "execution_count": 372,
     "metadata": {},
     "output_type": "execute_result"
    }
   ],
   "source": [
    "df.isnull().sum()"
   ]
  },
  {
   "cell_type": "markdown",
   "metadata": {},
   "source": [
    "## looking at the distribution of the data\n",
    "Here we can see there is a class imbalance "
   ]
  },
  {
   "cell_type": "code",
   "execution_count": 8,
   "metadata": {},
   "outputs": [
    {
     "data": {
      "text/html": [
       "<div>\n",
       "<style scoped>\n",
       "    .dataframe tbody tr th:only-of-type {\n",
       "        vertical-align: middle;\n",
       "    }\n",
       "\n",
       "    .dataframe tbody tr th {\n",
       "        vertical-align: top;\n",
       "    }\n",
       "\n",
       "    .dataframe thead th {\n",
       "        text-align: right;\n",
       "    }\n",
       "</style>\n",
       "<table border=\"1\" class=\"dataframe\">\n",
       "  <thead>\n",
       "    <tr style=\"text-align: right;\">\n",
       "      <th></th>\n",
       "      <th>Index</th>\n",
       "      <th>F1</th>\n",
       "      <th>F2</th>\n",
       "      <th>F3</th>\n",
       "      <th>F4</th>\n",
       "      <th>F5</th>\n",
       "      <th>F6</th>\n",
       "      <th>F7</th>\n",
       "      <th>F8</th>\n",
       "      <th>F9</th>\n",
       "      <th>...</th>\n",
       "      <th>F12</th>\n",
       "      <th>F13</th>\n",
       "      <th>F14</th>\n",
       "      <th>F17</th>\n",
       "      <th>F18</th>\n",
       "      <th>F19</th>\n",
       "      <th>F20</th>\n",
       "      <th>F21</th>\n",
       "      <th>F22</th>\n",
       "      <th>C</th>\n",
       "    </tr>\n",
       "  </thead>\n",
       "  <tbody>\n",
       "    <tr>\n",
       "      <th>count</th>\n",
       "      <td>101180.000000</td>\n",
       "      <td>101180.000000</td>\n",
       "      <td>101180.000000</td>\n",
       "      <td>101180.000000</td>\n",
       "      <td>101180.000000</td>\n",
       "      <td>101180.000000</td>\n",
       "      <td>101180.000000</td>\n",
       "      <td>101180.000000</td>\n",
       "      <td>101180.000000</td>\n",
       "      <td>101180.000000</td>\n",
       "      <td>...</td>\n",
       "      <td>1.011800e+05</td>\n",
       "      <td>1.011800e+05</td>\n",
       "      <td>1.011800e+05</td>\n",
       "      <td>101180.000000</td>\n",
       "      <td>101180.000000</td>\n",
       "      <td>101180.000000</td>\n",
       "      <td>101180.000000</td>\n",
       "      <td>101180.000000</td>\n",
       "      <td>101180.000000</td>\n",
       "      <td>101180.000000</td>\n",
       "    </tr>\n",
       "    <tr>\n",
       "      <th>mean</th>\n",
       "      <td>50590.500000</td>\n",
       "      <td>0.502348</td>\n",
       "      <td>0.501497</td>\n",
       "      <td>0.499886</td>\n",
       "      <td>0.499839</td>\n",
       "      <td>-29.742617</td>\n",
       "      <td>1.511000</td>\n",
       "      <td>7.939118</td>\n",
       "      <td>16.434147</td>\n",
       "      <td>9.927812</td>\n",
       "      <td>...</td>\n",
       "      <td>6.921685e+06</td>\n",
       "      <td>1.127538e+07</td>\n",
       "      <td>-5.198163e+07</td>\n",
       "      <td>1.339593</td>\n",
       "      <td>1.335027</td>\n",
       "      <td>387.181479</td>\n",
       "      <td>387.333999</td>\n",
       "      <td>4.588031</td>\n",
       "      <td>4.598567</td>\n",
       "      <td>0.245375</td>\n",
       "    </tr>\n",
       "    <tr>\n",
       "      <th>std</th>\n",
       "      <td>29208.294456</td>\n",
       "      <td>0.288058</td>\n",
       "      <td>0.289017</td>\n",
       "      <td>0.288875</td>\n",
       "      <td>0.288729</td>\n",
       "      <td>5781.829379</td>\n",
       "      <td>5796.594007</td>\n",
       "      <td>5765.581875</td>\n",
       "      <td>5782.805211</td>\n",
       "      <td>5771.004738</td>\n",
       "      <td>...</td>\n",
       "      <td>5.771750e+09</td>\n",
       "      <td>5.786659e+09</td>\n",
       "      <td>5.782358e+09</td>\n",
       "      <td>0.894065</td>\n",
       "      <td>0.882435</td>\n",
       "      <td>235.939585</td>\n",
       "      <td>235.374285</td>\n",
       "      <td>4.775671</td>\n",
       "      <td>4.776494</td>\n",
       "      <td>0.430311</td>\n",
       "    </tr>\n",
       "    <tr>\n",
       "      <th>min</th>\n",
       "      <td>1.000000</td>\n",
       "      <td>0.000018</td>\n",
       "      <td>0.000004</td>\n",
       "      <td>0.000002</td>\n",
       "      <td>0.000006</td>\n",
       "      <td>-10000.000000</td>\n",
       "      <td>-10000.000000</td>\n",
       "      <td>-10000.000000</td>\n",
       "      <td>-10000.000000</td>\n",
       "      <td>-10000.000000</td>\n",
       "      <td>...</td>\n",
       "      <td>-9.999754e+09</td>\n",
       "      <td>-9.999852e+09</td>\n",
       "      <td>-9.999767e+09</td>\n",
       "      <td>1.000000</td>\n",
       "      <td>1.000000</td>\n",
       "      <td>1.000000</td>\n",
       "      <td>1.000000</td>\n",
       "      <td>1.000000</td>\n",
       "      <td>1.000000</td>\n",
       "      <td>0.000000</td>\n",
       "    </tr>\n",
       "    <tr>\n",
       "      <th>25%</th>\n",
       "      <td>25295.750000</td>\n",
       "      <td>0.253819</td>\n",
       "      <td>0.251115</td>\n",
       "      <td>0.248818</td>\n",
       "      <td>0.250501</td>\n",
       "      <td>-5045.000000</td>\n",
       "      <td>-5012.000000</td>\n",
       "      <td>-4979.000000</td>\n",
       "      <td>-4988.000000</td>\n",
       "      <td>-4992.250000</td>\n",
       "      <td>...</td>\n",
       "      <td>-4.991278e+09</td>\n",
       "      <td>-5.027003e+09</td>\n",
       "      <td>-5.070403e+09</td>\n",
       "      <td>1.000000</td>\n",
       "      <td>1.000000</td>\n",
       "      <td>187.000000</td>\n",
       "      <td>187.000000</td>\n",
       "      <td>1.000000</td>\n",
       "      <td>1.000000</td>\n",
       "      <td>0.000000</td>\n",
       "    </tr>\n",
       "    <tr>\n",
       "      <th>50%</th>\n",
       "      <td>50590.500000</td>\n",
       "      <td>0.501802</td>\n",
       "      <td>0.501095</td>\n",
       "      <td>0.499820</td>\n",
       "      <td>0.501387</td>\n",
       "      <td>-46.000000</td>\n",
       "      <td>-11.500000</td>\n",
       "      <td>16.500000</td>\n",
       "      <td>60.000000</td>\n",
       "      <td>22.500000</td>\n",
       "      <td>...</td>\n",
       "      <td>4.277384e+07</td>\n",
       "      <td>9.416236e+06</td>\n",
       "      <td>-8.816174e+07</td>\n",
       "      <td>1.000000</td>\n",
       "      <td>1.000000</td>\n",
       "      <td>374.000000</td>\n",
       "      <td>375.000000</td>\n",
       "      <td>3.000000</td>\n",
       "      <td>3.000000</td>\n",
       "      <td>0.000000</td>\n",
       "    </tr>\n",
       "    <tr>\n",
       "      <th>75%</th>\n",
       "      <td>75885.250000</td>\n",
       "      <td>0.753598</td>\n",
       "      <td>0.752404</td>\n",
       "      <td>0.750281</td>\n",
       "      <td>0.748803</td>\n",
       "      <td>4978.000000</td>\n",
       "      <td>5050.000000</td>\n",
       "      <td>4962.000000</td>\n",
       "      <td>5021.000000</td>\n",
       "      <td>5020.000000</td>\n",
       "      <td>...</td>\n",
       "      <td>5.008238e+09</td>\n",
       "      <td>5.032947e+09</td>\n",
       "      <td>4.947133e+09</td>\n",
       "      <td>1.000000</td>\n",
       "      <td>1.000000</td>\n",
       "      <td>560.000000</td>\n",
       "      <td>561.000000</td>\n",
       "      <td>7.000000</td>\n",
       "      <td>7.000000</td>\n",
       "      <td>0.000000</td>\n",
       "    </tr>\n",
       "    <tr>\n",
       "      <th>max</th>\n",
       "      <td>101180.000000</td>\n",
       "      <td>0.999986</td>\n",
       "      <td>0.999990</td>\n",
       "      <td>0.999985</td>\n",
       "      <td>0.999977</td>\n",
       "      <td>10000.000000</td>\n",
       "      <td>10000.000000</td>\n",
       "      <td>10000.000000</td>\n",
       "      <td>10000.000000</td>\n",
       "      <td>10000.000000</td>\n",
       "      <td>...</td>\n",
       "      <td>9.999555e+09</td>\n",
       "      <td>9.999951e+09</td>\n",
       "      <td>9.999997e+09</td>\n",
       "      <td>6.000000</td>\n",
       "      <td>6.000000</td>\n",
       "      <td>901.000000</td>\n",
       "      <td>901.000000</td>\n",
       "      <td>21.000000</td>\n",
       "      <td>21.000000</td>\n",
       "      <td>1.000000</td>\n",
       "    </tr>\n",
       "  </tbody>\n",
       "</table>\n",
       "<p>8 rows × 22 columns</p>\n",
       "</div>"
      ],
      "text/plain": [
       "               Index             F1             F2             F3  \\\n",
       "count  101180.000000  101180.000000  101180.000000  101180.000000   \n",
       "mean    50590.500000       0.502348       0.501497       0.499886   \n",
       "std     29208.294456       0.288058       0.289017       0.288875   \n",
       "min         1.000000       0.000018       0.000004       0.000002   \n",
       "25%     25295.750000       0.253819       0.251115       0.248818   \n",
       "50%     50590.500000       0.501802       0.501095       0.499820   \n",
       "75%     75885.250000       0.753598       0.752404       0.750281   \n",
       "max    101180.000000       0.999986       0.999990       0.999985   \n",
       "\n",
       "                  F4             F5             F6             F7  \\\n",
       "count  101180.000000  101180.000000  101180.000000  101180.000000   \n",
       "mean        0.499839     -29.742617       1.511000       7.939118   \n",
       "std         0.288729    5781.829379    5796.594007    5765.581875   \n",
       "min         0.000006  -10000.000000  -10000.000000  -10000.000000   \n",
       "25%         0.250501   -5045.000000   -5012.000000   -4979.000000   \n",
       "50%         0.501387     -46.000000     -11.500000      16.500000   \n",
       "75%         0.748803    4978.000000    5050.000000    4962.000000   \n",
       "max         0.999977   10000.000000   10000.000000   10000.000000   \n",
       "\n",
       "                  F8             F9      ...                 F12  \\\n",
       "count  101180.000000  101180.000000      ...        1.011800e+05   \n",
       "mean       16.434147       9.927812      ...        6.921685e+06   \n",
       "std      5782.805211    5771.004738      ...        5.771750e+09   \n",
       "min    -10000.000000  -10000.000000      ...       -9.999754e+09   \n",
       "25%     -4988.000000   -4992.250000      ...       -4.991278e+09   \n",
       "50%        60.000000      22.500000      ...        4.277384e+07   \n",
       "75%      5021.000000    5020.000000      ...        5.008238e+09   \n",
       "max     10000.000000   10000.000000      ...        9.999555e+09   \n",
       "\n",
       "                F13           F14            F17            F18  \\\n",
       "count  1.011800e+05  1.011800e+05  101180.000000  101180.000000   \n",
       "mean   1.127538e+07 -5.198163e+07       1.339593       1.335027   \n",
       "std    5.786659e+09  5.782358e+09       0.894065       0.882435   \n",
       "min   -9.999852e+09 -9.999767e+09       1.000000       1.000000   \n",
       "25%   -5.027003e+09 -5.070403e+09       1.000000       1.000000   \n",
       "50%    9.416236e+06 -8.816174e+07       1.000000       1.000000   \n",
       "75%    5.032947e+09  4.947133e+09       1.000000       1.000000   \n",
       "max    9.999951e+09  9.999997e+09       6.000000       6.000000   \n",
       "\n",
       "                 F19            F20            F21            F22  \\\n",
       "count  101180.000000  101180.000000  101180.000000  101180.000000   \n",
       "mean      387.181479     387.333999       4.588031       4.598567   \n",
       "std       235.939585     235.374285       4.775671       4.776494   \n",
       "min         1.000000       1.000000       1.000000       1.000000   \n",
       "25%       187.000000     187.000000       1.000000       1.000000   \n",
       "50%       374.000000     375.000000       3.000000       3.000000   \n",
       "75%       560.000000     561.000000       7.000000       7.000000   \n",
       "max       901.000000     901.000000      21.000000      21.000000   \n",
       "\n",
       "                   C  \n",
       "count  101180.000000  \n",
       "mean        0.245375  \n",
       "std         0.430311  \n",
       "min         0.000000  \n",
       "25%         0.000000  \n",
       "50%         0.000000  \n",
       "75%         0.000000  \n",
       "max         1.000000  \n",
       "\n",
       "[8 rows x 22 columns]"
      ]
     },
     "execution_count": 8,
     "metadata": {},
     "output_type": "execute_result"
    }
   ],
   "source": [
    "df.describe()"
   ]
  },
  {
   "cell_type": "code",
   "execution_count": 9,
   "metadata": {},
   "outputs": [
    {
     "data": {
      "image/png": "[encoded data removed]",
      "text/plain": [
       "<matplotlib.figure.Figure at 0x1c80c498e80>"
      ]
     },
     "metadata": {},
     "output_type": "display_data"
    }
   ],
   "source": [
    "df.hist()\n",
    "plt.show()"
   ]
  },
  {
   "cell_type": "markdown",
   "metadata": {},
   "source": [
    "## Clearifying the class imbalance"
   ]
  },
  {
   "cell_type": "code",
   "execution_count": 374,
   "metadata": {},
   "outputs": [
    {
     "name": "stdout",
     "output_type": "stream",
     "text": [
      "C1:  76353\n",
      "C2:  24827\n"
     ]
    },
    {
     "data": {
      "image/png": "[encoded data removed]",
      "text/plain": [
       "<matplotlib.figure.Figure at 0x1b10a30abe0>"
      ]
     },
     "metadata": {},
     "output_type": "display_data"
    }
   ],
   "source": [
    "#Here is clearifies the class imbalance \n",
    "dfC1 = df[df.C==0]\n",
    "dfC2 = df[df.C==1]\n",
    "print('C1: ',dfC1.C.count())\n",
    "print('C2: ',dfC2.C.count())\n",
    "df['C'].hist()\n",
    "\n",
    "\n",
    "weight=dfC1/dfC2\n"
   ]
  },
  {
   "cell_type": "markdown",
   "metadata": {},
   "source": [
    "## Exploring the out liers\n",
    "There are outliears at F17, F18,F21,F22"
   ]
  },
  {
   "cell_type": "code",
   "execution_count": 375,
   "metadata": {},
   "outputs": [
    {
     "data": {
      "image/png": "[encoded data removed]",
      "text/plain": [
       "<matplotlib.figure.Figure at 0x1b113c3dbe0>"
      ]
     },
     "metadata": {},
     "output_type": "display_data"
    }
   ],
   "source": [
    "df19=df.iloc[:,0:9]\n",
    "df19.plot(kind='box', subplots=True, layout=(3,3), sharex=False, sharey=False)\n",
    "plt.show()\n",
    "# There seems not Outlier yet"
   ]
  },
  {
   "cell_type": "code",
   "execution_count": 376,
   "metadata": {},
   "outputs": [
    {
     "data": {
      "image/png": "[encoded data removed]",
      "text/plain": [
       "<matplotlib.figure.Figure at 0x1b113d23320>"
      ]
     },
     "metadata": {},
     "output_type": "display_data"
    }
   ],
   "source": [
    "## is there any outlier in the 10st to 18th column\n",
    "df1018=df.iloc[:,9:19]\n",
    "df1018.plot(kind='box', subplots=True, layout=(3,3), sharex=False, sharey=False)\n",
    "plt.show()\n",
    "# There are outliers in  F17 and F18"
   ]
  },
  {
   "cell_type": "code",
   "execution_count": 377,
   "metadata": {},
   "outputs": [
    {
     "data": {
      "image/png": "[encoded data removed]",
      "text/plain": [
       "<matplotlib.figure.Figure at 0x1b10df9a390>"
      ]
     },
     "metadata": {},
     "output_type": "display_data"
    }
   ],
   "source": [
    "## is there any outlier in the 19st to 23th column\n",
    "df1923=df.iloc[:,19:23]\n",
    "df1923.plot(kind='box', subplots=True, layout=(3,3), sharex=False, sharey=False)\n",
    "plt.show()\n",
    "# There are outliers in  F21 and F22"
   ]
  },
  {
   "cell_type": "markdown",
   "metadata": {},
   "source": [
    "## converting the date feature to an ordinal i.e. an integer"
   ]
  },
  {
   "cell_type": "code",
   "execution_count": 378,
   "metadata": {},
   "outputs": [],
   "source": [
    "import datetime as dt\n",
    "# for F15\n",
    "df['F15'] = pd.to_datetime(df['F15'])\n",
    "\n",
    "df['F15']=df['F15'].map(dt.datetime.toordinal)\n"
   ]
  },
  {
   "cell_type": "code",
   "execution_count": 379,
   "metadata": {},
   "outputs": [],
   "source": [
    "# for F16\n",
    "df['F16'] = pd.to_datetime(df['F16'])\n",
    "\n",
    "df['F16']=df['F16'].map(dt.datetime.toordinal)"
   ]
  },
  {
   "cell_type": "markdown",
   "metadata": {},
   "source": [
    "# As the data is imbalanced Upsampling is done\n"
   ]
  },
  {
   "cell_type": "code",
   "execution_count": 380,
   "metadata": {},
   "outputs": [],
   "source": [
    "from sklearn.utils import resample\n",
    "\n",
    "df_majority = df[df.C==0]\n",
    "\n",
    "df_minority = df[df.C==1]"
   ]
  },
  {
   "cell_type": "code",
   "execution_count": 381,
   "metadata": {},
   "outputs": [],
   "source": [
    "df_minority_upsampled = resample(df_minority, replace=True, n_samples=76353, random_state=123) \n"
   ]
  },
  {
   "cell_type": "code",
   "execution_count": 382,
   "metadata": {},
   "outputs": [
    {
     "data": {
      "text/plain": [
       "1    76353\n",
       "0    76353\n",
       "Name: C, dtype: int64"
      ]
     },
     "execution_count": 382,
     "metadata": {},
     "output_type": "execute_result"
    }
   ],
   "source": [
    "df_upsampled = pd.concat([df_majority, df_minority_upsampled])\n",
    "df_upsampled.C.value_counts()"
   ]
  },
  {
   "cell_type": "code",
   "execution_count": 383,
   "metadata": {},
   "outputs": [
    {
     "data": {
      "text/html": [
       "<div>\n",
       "<style scoped>\n",
       "    .dataframe tbody tr th:only-of-type {\n",
       "        vertical-align: middle;\n",
       "    }\n",
       "\n",
       "    .dataframe tbody tr th {\n",
       "        vertical-align: top;\n",
       "    }\n",
       "\n",
       "    .dataframe thead th {\n",
       "        text-align: right;\n",
       "    }\n",
       "</style>\n",
       "<table border=\"1\" class=\"dataframe\">\n",
       "  <thead>\n",
       "    <tr style=\"text-align: right;\">\n",
       "      <th></th>\n",
       "      <th>F1</th>\n",
       "      <th>F2</th>\n",
       "      <th>F3</th>\n",
       "      <th>F4</th>\n",
       "      <th>F5</th>\n",
       "      <th>F6</th>\n",
       "      <th>F7</th>\n",
       "      <th>F8</th>\n",
       "      <th>F9</th>\n",
       "      <th>F10</th>\n",
       "      <th>...</th>\n",
       "      <th>F14</th>\n",
       "      <th>F15</th>\n",
       "      <th>F16</th>\n",
       "      <th>F17</th>\n",
       "      <th>F18</th>\n",
       "      <th>F19</th>\n",
       "      <th>F20</th>\n",
       "      <th>F21</th>\n",
       "      <th>F22</th>\n",
       "      <th>C</th>\n",
       "    </tr>\n",
       "  </thead>\n",
       "  <tbody>\n",
       "    <tr>\n",
       "      <th>0</th>\n",
       "      <td>0.224506</td>\n",
       "      <td>0.500340</td>\n",
       "      <td>0.489860</td>\n",
       "      <td>0.902413</td>\n",
       "      <td>7934</td>\n",
       "      <td>-6970</td>\n",
       "      <td>-5714</td>\n",
       "      <td>9982</td>\n",
       "      <td>-5697</td>\n",
       "      <td>4227810299</td>\n",
       "      <td>...</td>\n",
       "      <td>-3433637453</td>\n",
       "      <td>725283</td>\n",
       "      <td>727447</td>\n",
       "      <td>2</td>\n",
       "      <td>1</td>\n",
       "      <td>706</td>\n",
       "      <td>305</td>\n",
       "      <td>1</td>\n",
       "      <td>2</td>\n",
       "      <td>0</td>\n",
       "    </tr>\n",
       "    <tr>\n",
       "      <th>2</th>\n",
       "      <td>0.893441</td>\n",
       "      <td>0.622005</td>\n",
       "      <td>0.998776</td>\n",
       "      <td>0.098386</td>\n",
       "      <td>8540</td>\n",
       "      <td>5266</td>\n",
       "      <td>-9377</td>\n",
       "      <td>-3504</td>\n",
       "      <td>-4511</td>\n",
       "      <td>5947184989</td>\n",
       "      <td>...</td>\n",
       "      <td>-8977995005</td>\n",
       "      <td>726114</td>\n",
       "      <td>725332</td>\n",
       "      <td>2</td>\n",
       "      <td>1</td>\n",
       "      <td>703</td>\n",
       "      <td>315</td>\n",
       "      <td>1</td>\n",
       "      <td>4</td>\n",
       "      <td>0</td>\n",
       "    </tr>\n",
       "    <tr>\n",
       "      <th>3</th>\n",
       "      <td>0.320641</td>\n",
       "      <td>0.957234</td>\n",
       "      <td>0.346000</td>\n",
       "      <td>0.646479</td>\n",
       "      <td>-7772</td>\n",
       "      <td>-383</td>\n",
       "      <td>9681</td>\n",
       "      <td>-8661</td>\n",
       "      <td>3474</td>\n",
       "      <td>-5724795826</td>\n",
       "      <td>...</td>\n",
       "      <td>4868760308</td>\n",
       "      <td>723594</td>\n",
       "      <td>727359</td>\n",
       "      <td>1</td>\n",
       "      <td>1</td>\n",
       "      <td>122</td>\n",
       "      <td>304</td>\n",
       "      <td>15</td>\n",
       "      <td>1</td>\n",
       "      <td>0</td>\n",
       "    </tr>\n",
       "    <tr>\n",
       "      <th>4</th>\n",
       "      <td>0.475961</td>\n",
       "      <td>0.623008</td>\n",
       "      <td>0.544988</td>\n",
       "      <td>0.159709</td>\n",
       "      <td>1571</td>\n",
       "      <td>-8039</td>\n",
       "      <td>-7961</td>\n",
       "      <td>-2385</td>\n",
       "      <td>4407</td>\n",
       "      <td>-3097637172</td>\n",
       "      <td>...</td>\n",
       "      <td>9757408267</td>\n",
       "      <td>725471</td>\n",
       "      <td>724933</td>\n",
       "      <td>1</td>\n",
       "      <td>1</td>\n",
       "      <td>486</td>\n",
       "      <td>240</td>\n",
       "      <td>1</td>\n",
       "      <td>1</td>\n",
       "      <td>0</td>\n",
       "    </tr>\n",
       "    <tr>\n",
       "      <th>5</th>\n",
       "      <td>0.922726</td>\n",
       "      <td>0.600115</td>\n",
       "      <td>0.616261</td>\n",
       "      <td>0.339285</td>\n",
       "      <td>-6554</td>\n",
       "      <td>8770</td>\n",
       "      <td>1065</td>\n",
       "      <td>-9720</td>\n",
       "      <td>5801</td>\n",
       "      <td>6730646544</td>\n",
       "      <td>...</td>\n",
       "      <td>-6662571037</td>\n",
       "      <td>726646</td>\n",
       "      <td>729412</td>\n",
       "      <td>4</td>\n",
       "      <td>1</td>\n",
       "      <td>806</td>\n",
       "      <td>157</td>\n",
       "      <td>6</td>\n",
       "      <td>5</td>\n",
       "      <td>0</td>\n",
       "    </tr>\n",
       "  </tbody>\n",
       "</table>\n",
       "<p>5 rows × 23 columns</p>\n",
       "</div>"
      ],
      "text/plain": [
       "         F1        F2        F3        F4    F5    F6    F7    F8    F9  \\\n",
       "0  0.224506  0.500340  0.489860  0.902413  7934 -6970 -5714  9982 -5697   \n",
       "2  0.893441  0.622005  0.998776  0.098386  8540  5266 -9377 -3504 -4511   \n",
       "3  0.320641  0.957234  0.346000  0.646479 -7772  -383  9681 -8661  3474   \n",
       "4  0.475961  0.623008  0.544988  0.159709  1571 -8039 -7961 -2385  4407   \n",
       "5  0.922726  0.600115  0.616261  0.339285 -6554  8770  1065 -9720  5801   \n",
       "\n",
       "          F10 ...         F14     F15     F16  F17  F18  F19  F20  F21  F22  C  \n",
       "0  4227810299 ... -3433637453  725283  727447    2    1  706  305    1    2  0  \n",
       "2  5947184989 ... -8977995005  726114  725332    2    1  703  315    1    4  0  \n",
       "3 -5724795826 ...  4868760308  723594  727359    1    1  122  304   15    1  0  \n",
       "4 -3097637172 ...  9757408267  725471  724933    1    1  486  240    1    1  0  \n",
       "5  6730646544 ... -6662571037  726646  729412    4    1  806  157    6    5  0  \n",
       "\n",
       "[5 rows x 23 columns]"
      ]
     },
     "execution_count": 383,
     "metadata": {},
     "output_type": "execute_result"
    }
   ],
   "source": [
    "df_upsampled.drop(['Index'],axis=1,inplace=True)\n",
    "df_upsampled.head()"
   ]
  },
  {
   "cell_type": "markdown",
   "metadata": {},
   "source": [
    "# Building a model:"
   ]
  },
  {
   "cell_type": "code",
   "execution_count": 384,
   "metadata": {},
   "outputs": [],
   "source": [
    "X = df_upsampled.iloc[:,:22].values\n",
    "y = df_upsampled.iloc[:,22].values\n",
    "#X=df.iloc[:,:22].values\n",
    "#y=df.iloc[:,22].values"
   ]
  },
  {
   "cell_type": "markdown",
   "metadata": {},
   "source": [
    "### Scaling the dataset"
   ]
  },
  {
   "cell_type": "code",
   "execution_count": 385,
   "metadata": {},
   "outputs": [],
   "source": [
    "from sklearn import preprocessing\n",
    "scaler = preprocessing.StandardScaler().fit(X)\n",
    "X=scaler.transform(X)"
   ]
  },
  {
   "cell_type": "markdown",
   "metadata": {},
   "source": [
    "### Splitting the dataset into train and test"
   ]
  },
  {
   "cell_type": "code",
   "execution_count": 386,
   "metadata": {},
   "outputs": [],
   "source": [
    "from sklearn.cross_validation import train_test_split\n",
    "X_train, X_test, y_train, y_test = train_test_split(X, y, test_size = .20, random_state=20)"
   ]
  },
  {
   "cell_type": "markdown",
   "metadata": {},
   "source": [
    "# Model"
   ]
  },
  {
   "cell_type": "markdown",
   "metadata": {},
   "source": [
    "### Logistic"
   ]
  },
  {
   "cell_type": "code",
   "execution_count": 387,
   "metadata": {},
   "outputs": [],
   "source": [
    "from sklearn.linear_model import LogisticRegression\n",
    "model=LogisticRegression(random_state=20,max_iter=100, verbose=0, n_jobs=1)"
   ]
  },
  {
   "cell_type": "code",
   "execution_count": 388,
   "metadata": {},
   "outputs": [
    {
     "data": {
      "text/plain": [
       "LogisticRegression(C=1.0, class_weight=None, dual=False, fit_intercept=True,\n",
       "          intercept_scaling=1, max_iter=100, multi_class='ovr', n_jobs=1,\n",
       "          penalty='l2', random_state=20, solver='liblinear', tol=0.0001,\n",
       "          verbose=0, warm_start=False)"
      ]
     },
     "execution_count": 388,
     "metadata": {},
     "output_type": "execute_result"
    }
   ],
   "source": [
    "model.fit(X_train,y_train)"
   ]
  },
  {
   "cell_type": "code",
   "execution_count": 389,
   "metadata": {},
   "outputs": [],
   "source": [
    "y_pred=model.predict(X_test)"
   ]
  },
  {
   "cell_type": "code",
   "execution_count": 390,
   "metadata": {},
   "outputs": [
    {
     "data": {
      "text/plain": [
       "0.6719926658372077"
      ]
     },
     "execution_count": 390,
     "metadata": {},
     "output_type": "execute_result"
    }
   ],
   "source": [
    "model.score(X_test,y_test)"
   ]
  },
  {
   "cell_type": "code",
   "execution_count": 391,
   "metadata": {},
   "outputs": [
    {
     "data": {
      "text/plain": [
       "0.6728659834321077"
      ]
     },
     "execution_count": 391,
     "metadata": {},
     "output_type": "execute_result"
    }
   ],
   "source": [
    "#train\n",
    "model.score(X_train,y_train)"
   ]
  },
  {
   "cell_type": "markdown",
   "metadata": {},
   "source": [
    "### xgboost"
   ]
  },
  {
   "cell_type": "code",
   "execution_count": 416,
   "metadata": {},
   "outputs": [],
   "source": [
    "from xgboost import XGBClassifier\n",
    "\n",
    "\n",
    "param = {'max_depth':2, 'eta':1, 'silent':1, 'objective':'binary:logistic' }\n",
    "num_round = 20\n",
    "model2 = XGBClassifier(learning_rate=0.01,max_depth=5,n_estimators=500 )"
   ]
  },
  {
   "cell_type": "code",
   "execution_count": 417,
   "metadata": {},
   "outputs": [
    {
     "data": {
      "text/plain": [
       "XGBClassifier(base_score=0.5, colsample_bylevel=1, colsample_bytree=1,\n",
       "       gamma=0, learning_rate=0.01, max_delta_step=0, max_depth=5,\n",
       "       min_child_weight=1, missing=None, n_estimators=500, nthread=-1,\n",
       "       objective='binary:logistic', reg_alpha=0, reg_lambda=1,\n",
       "       scale_pos_weight=1, seed=0, silent=True, subsample=1)"
      ]
     },
     "execution_count": 417,
     "metadata": {},
     "output_type": "execute_result"
    }
   ],
   "source": [
    "model2.fit(X_train,y_train)"
   ]
  },
  {
   "cell_type": "code",
   "execution_count": 418,
   "metadata": {},
   "outputs": [
    {
     "name": "stderr",
     "output_type": "stream",
     "text": [
      "C:\\Users\\Lenovo\\Anaconda3\\lib\\site-packages\\sklearn\\preprocessing\\label.py:151: DeprecationWarning: The truth value of an empty array is ambiguous. Returning False, but in future this will result in an error. Use `array.size > 0` to check that an array is not empty.\n",
      "  if diff:\n"
     ]
    }
   ],
   "source": [
    "y_pred=model2.predict(X_test)"
   ]
  },
  {
   "cell_type": "code",
   "execution_count": 419,
   "metadata": {},
   "outputs": [
    {
     "name": "stderr",
     "output_type": "stream",
     "text": [
      "C:\\Users\\Lenovo\\Anaconda3\\lib\\site-packages\\sklearn\\preprocessing\\label.py:151: DeprecationWarning: The truth value of an empty array is ambiguous. Returning False, but in future this will result in an error. Use `array.size > 0` to check that an array is not empty.\n",
      "  if diff:\n"
     ]
    },
    {
     "data": {
      "text/plain": [
       "0.6833540698055137"
      ]
     },
     "execution_count": 419,
     "metadata": {},
     "output_type": "execute_result"
    }
   ],
   "source": [
    "model2.score(X_test,y_test)"
   ]
  },
  {
   "cell_type": "code",
   "execution_count": 420,
   "metadata": {},
   "outputs": [
    {
     "name": "stderr",
     "output_type": "stream",
     "text": [
      "C:\\Users\\Lenovo\\Anaconda3\\lib\\site-packages\\sklearn\\preprocessing\\label.py:151: DeprecationWarning: The truth value of an empty array is ambiguous. Returning False, but in future this will result in an error. Use `array.size > 0` to check that an array is not empty.\n",
      "  if diff:\n"
     ]
    },
    {
     "data": {
      "text/plain": [
       "0.68757571788743"
      ]
     },
     "execution_count": 420,
     "metadata": {},
     "output_type": "execute_result"
    }
   ],
   "source": [
    "#train\n",
    "model2.score(X_train,y_train)"
   ]
  },
  {
   "cell_type": "markdown",
   "metadata": {},
   "source": [
    "## NN"
   ]
  },
  {
   "cell_type": "code",
   "execution_count": 425,
   "metadata": {},
   "outputs": [
    {
     "name": "stderr",
     "output_type": "stream",
     "text": [
      "C:\\Users\\Lenovo\\Anaconda3\\lib\\site-packages\\keras\\models.py:981: UserWarning: The `nb_epoch` argument in `fit` has been renamed `epochs`.\n",
      "  warnings.warn('The `nb_epoch` argument in `fit` '\n"
     ]
    },
    {
     "name": "stdout",
     "output_type": "stream",
     "text": [
      "Train on 122164 samples, validate on 30542 samples\n",
      "Epoch 1/20\n",
      " - 17s - loss: 0.6127 - acc: 0.6681 - val_loss: 0.5935 - val_acc: 0.6795\n",
      "Epoch 2/20\n",
      " - 17s - loss: 0.5890 - acc: 0.6814 - val_loss: 0.5911 - val_acc: 0.6793\n",
      "Epoch 3/20\n",
      " - 17s - loss: 0.5804 - acc: 0.6856 - val_loss: 0.5873 - val_acc: 0.6776\n",
      "Epoch 4/20\n",
      " - 18s - loss: 0.5690 - acc: 0.6926 - val_loss: 0.5788 - val_acc: 0.6861\n",
      "Epoch 5/20\n",
      " - 18s - loss: 0.5558 - acc: 0.7023 - val_loss: 0.5748 - val_acc: 0.6864\n",
      "Epoch 6/20\n",
      " - 19s - loss: 0.5394 - acc: 0.7150 - val_loss: 0.5673 - val_acc: 0.6949\n",
      "Epoch 7/20\n",
      " - 18s - loss: 0.5220 - acc: 0.7291 - val_loss: 0.5668 - val_acc: 0.6945\n",
      "Epoch 8/20\n",
      " - 19s - loss: 0.5034 - acc: 0.7430 - val_loss: 0.5500 - val_acc: 0.7076\n",
      "Epoch 9/20\n",
      " - 21s - loss: 0.4858 - acc: 0.7584 - val_loss: 0.5745 - val_acc: 0.7077\n",
      "Epoch 10/20\n",
      " - 18s - loss: 0.4705 - acc: 0.7681 - val_loss: 0.6047 - val_acc: 0.6948\n",
      "Epoch 11/20\n",
      " - 18s - loss: 0.4535 - acc: 0.7804 - val_loss: 0.5202 - val_acc: 0.7341\n",
      "Epoch 12/20\n",
      " - 18s - loss: 0.4344 - acc: 0.7956 - val_loss: 0.5150 - val_acc: 0.7402\n",
      "Epoch 13/20\n",
      " - 17s - loss: 0.4127 - acc: 0.8068 - val_loss: 0.5256 - val_acc: 0.7402\n",
      "Epoch 14/20\n",
      " - 18s - loss: 0.3966 - acc: 0.8172 - val_loss: 0.5024 - val_acc: 0.7517\n",
      "Epoch 15/20\n",
      " - 18s - loss: 0.3759 - acc: 0.8310 - val_loss: 0.5350 - val_acc: 0.7362\n",
      "Epoch 16/20\n",
      " - 18s - loss: 0.3632 - acc: 0.8383 - val_loss: 0.4939 - val_acc: 0.7661\n",
      "Epoch 17/20\n",
      " - 18s - loss: 0.3466 - acc: 0.8473 - val_loss: 0.5315 - val_acc: 0.7542\n",
      "Epoch 18/20\n",
      " - 17s - loss: 0.3276 - acc: 0.8589 - val_loss: 0.4806 - val_acc: 0.7800\n",
      "Epoch 19/20\n",
      " - 19s - loss: 0.3122 - acc: 0.8664 - val_loss: 0.4780 - val_acc: 0.7805\n",
      "Epoch 20/20\n",
      " - 18s - loss: 0.2980 - acc: 0.8739 - val_loss: 0.5578 - val_acc: 0.7609\n"
     ]
    },
    {
     "data": {
      "text/plain": [
       "<keras.callbacks.History at 0x1b11b5aad30>"
      ]
     },
     "execution_count": 425,
     "metadata": {},
     "output_type": "execute_result"
    }
   ],
   "source": [
    "#Defining NN Model\n",
    "from keras.layers import Dense, Dropout\n",
    "from keras.optimizers import RMSprop\n",
    "from keras.models import Sequential\n",
    "model3 = Sequential()\n",
    "\n",
    "model3.add(Dense(1024, input_dim=22, activation='relu'))\n",
    "\n",
    "model3.add(Dropout(0.05))\n",
    "\n",
    "model3.add(Dense(1024, activation='relu'))\n",
    "\n",
    "model3.add(Dense(1, activation='sigmoid'))\n",
    "\n",
    "\n",
    "\n",
    "model3.compile(loss='binary_crossentropy',\n",
    "\n",
    "              optimizer='RMSprop',\n",
    "\n",
    "              metrics=['accuracy'])\n",
    "\n",
    "\n",
    "\n",
    "#Training of model\n",
    "\n",
    "model3.fit(X_train, y_train,\n",
    "\n",
    "          nb_epoch=20,\n",
    "\n",
    "          batch_size=512,validation_data=(X_test, y_test),\n",
    "\n",
    "          shuffle=True,verbose=2)"
   ]
  },
  {
   "cell_type": "code",
   "execution_count": 434,
   "metadata": {},
   "outputs": [
    {
     "name": "stdout",
     "output_type": "stream",
     "text": [
      "[[ 8848  6495]\n",
      " [  807 14392]]\n",
      "             precision    recall  f1-score   support\n",
      "\n",
      "          0       0.92      0.58      0.71     15343\n",
      "          1       0.69      0.95      0.80     15199\n",
      "\n",
      "avg / total       0.80      0.76      0.75     30542\n",
      "\n"
     ]
    }
   ],
   "source": [
    "y_pred = model3.predict_classes(X_test) \n",
    "\n",
    "from sklearn.metrics import confusion_matrix\n",
    "\n",
    "confusion_matrix = confusion_matrix(y_test, y_pred)\n",
    "\n",
    "print(confusion_matrix)\n",
    "from sklearn.metrics import classification_report\n",
    "print(classification_report(y_test, y_pred))\n",
    "\n"
   ]
  },
  {
   "cell_type": "code",
   "execution_count": 433,
   "metadata": {},
   "outputs": [
    {
     "name": "stdout",
     "output_type": "stream",
     "text": [
      "acc: 80.24%\n",
      "acc: 76.61%\n",
      "acc: 80.80%\n",
      "acc: 80.39%\n",
      "acc: 78.50%\n",
      "acc: 74.01%\n",
      "acc: 80.73%\n",
      "acc: 78.64%\n",
      "acc: 79.37%\n",
      "acc: 79.73%\n",
      "78.90% (+/- 2.03%)\n"
     ]
    }
   ],
   "source": [
    "#k-Fold Cross Validation\n",
    "\n",
    "from sklearn.model_selection import StratifiedKFold\n",
    "\n",
    "import numpy\n",
    "\n",
    "seed = 7\n",
    "\n",
    "kfold = StratifiedKFold(n_splits=10, shuffle=True, random_state=seed)\n",
    "\n",
    "cvscores = []\n",
    "\n",
    "for train, test in kfold.split(X, y):\n",
    "\n",
    "    model = Sequential()\n",
    "\n",
    "    model.add(Dense(1024, input_dim=22, activation='relu'))\n",
    "\n",
    "    model.add(Dropout(0.05))\n",
    "\n",
    "    model.add(Dense(1024, activation='relu'))\n",
    "\n",
    "    model.add(Dense(1, activation='sigmoid'))\n",
    "\n",
    "    model.compile(loss='binary_crossentropy',\n",
    "\n",
    "              optimizer='RMSprop',\n",
    "\n",
    "              metrics=['accuracy'])\n",
    "\n",
    "    model.fit(X[train], y[train], epochs=20, batch_size=512, verbose=0)\n",
    "\n",
    "    scores = model.evaluate(X[test], y[test], verbose=0)\n",
    "\n",
    "    print(\"%s: %.2f%%\" % (model.metrics_names[1], scores[1]*100))\n",
    "\n",
    "    cvscores.append(scores[1] * 100)\n",
    "\n",
    "    \n",
    "\n",
    "print(\"%.2f%% (+/- %.2f%%)\" % (numpy.mean(cvscores), numpy.std(cvscores)))"
   ]
  },
  {
   "cell_type": "code",
   "execution_count": null,
   "metadata": {},
   "outputs": [],
   "source": []
  }
 ],
 "metadata": {
  "kernelspec": {
   "display_name": "Python 3",
   "language": "python",
   "name": "python3"
  },
  "language_info": {
   "codemirror_mode": {
    "name": "ipython",
    "version": 3
   },
   "file_extension": ".py",
   "mimetype": "text/x-python",
   "name": "python",
   "nbconvert_exporter": "python",
   "pygments_lexer": "ipython3",
   "version": "3.6.4"
  }
 },
 "nbformat": 4,
 "nbformat_minor": 2
}
